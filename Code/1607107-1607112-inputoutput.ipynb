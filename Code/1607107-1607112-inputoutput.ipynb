{
 "cells": [
  {
   "cell_type": "code",
   "execution_count": 1,
   "id": "e351ff62",
   "metadata": {
    "_cell_guid": "b1076dfc-b9ad-4769-8c92-a6c4dae69d19",
    "_uuid": "8f2839f25d086af736a60e9eeb907d3b93b6e0e5",
    "execution": {
     "iopub.execute_input": "2022-03-26T17:58:26.255275Z",
     "iopub.status.busy": "2022-03-26T17:58:26.254613Z",
     "iopub.status.idle": "2022-03-26T17:58:34.115301Z",
     "shell.execute_reply": "2022-03-26T17:58:34.114499Z",
     "shell.execute_reply.started": "2022-03-26T17:56:11.658365Z"
    },
    "papermill": {
     "duration": 7.890695,
     "end_time": "2022-03-26T17:58:34.115472",
     "exception": false,
     "start_time": "2022-03-26T17:58:26.224777",
     "status": "completed"
    },
    "tags": []
   },
   "outputs": [],
   "source": [
    "\n",
    "import os\n",
    "import cv2\n",
    "import zipfile\n",
    "import datetime\n",
    "from collections import Counter\n",
    "import tensorflow_hub as hub\n",
    "import sklearn\n",
    "import numpy as np\n",
    "import pandas as pd\n",
    "from sklearn.model_selection import StratifiedShuffleSplit\n",
    "import tensorflow as tf\n",
    "from tensorflow.keras.preprocessing.image import ImageDataGenerator\n",
    "from tensorflow import keras\n",
    "from tensorflow.keras import models,layers\n",
    "from tensorflow.keras.utils import plot_model\n",
    "from keras.layers import Conv2D, MaxPooling2D,GlobalAveragePooling2D\n",
    "from keras.layers import Activation, Dropout, BatchNormalization, Flatten, Dense, AvgPool2D,MaxPool2D\n",
    "from keras.models import Sequential, Model\n",
    "import matplotlib.pyplot as plt\n",
    "import PIL.Image\n",
    "from IPython.display import Image\n",
    "import matplotlib.pyplot as plt"
   ]
  },
  {
   "cell_type": "markdown",
   "id": "3dcb71dc",
   "metadata": {
    "papermill": {
     "duration": 0.01283,
     "end_time": "2022-03-26T17:58:34.142069",
     "exception": false,
     "start_time": "2022-03-26T17:58:34.129239",
     "status": "completed"
    },
    "tags": []
   },
   "source": [
    "# Load Directory"
   ]
  },
  {
   "cell_type": "code",
   "execution_count": 2,
   "id": "7d2b4771",
   "metadata": {
    "execution": {
     "iopub.execute_input": "2022-03-26T17:58:34.173867Z",
     "iopub.status.busy": "2022-03-26T17:58:34.173250Z",
     "iopub.status.idle": "2022-03-26T17:58:34.193248Z",
     "shell.execute_reply": "2022-03-26T17:58:34.193743Z",
     "shell.execute_reply.started": "2022-03-26T17:56:11.773973Z"
    },
    "papermill": {
     "duration": 0.038656,
     "end_time": "2022-03-26T17:58:34.193912",
     "exception": false,
     "start_time": "2022-03-26T17:58:34.155256",
     "status": "completed"
    },
    "tags": []
   },
   "outputs": [],
   "source": [
    "covid_image=cv2.imread('../input/covid19-radiography-database/COVID-19_Radiography_Dataset/COVID/COVID-1.png')      \n",
    "Normal_image=cv2.imread('../input/covid19-radiography-database/COVID-19_Radiography_Dataset/Normal/Normal-1.png')\n",
    "pneumonia_image=cv2.imread('../input/covid19-radiography-database/COVID-19_Radiography_Dataset/Viral Pneumonia/Viral Pneumonia-1.png')  \n",
    "Lung_image=cv2.imread('../input/covid19-radiography-database/COVID-19_Radiography_Dataset/Lung_Opacity/Lung_Opacity-1.png')  \n"
   ]
  },
  {
   "cell_type": "markdown",
   "id": "2d584628",
   "metadata": {
    "papermill": {
     "duration": 0.013054,
     "end_time": "2022-03-26T17:58:34.220359",
     "exception": false,
     "start_time": "2022-03-26T17:58:34.207305",
     "status": "completed"
    },
    "tags": []
   },
   "source": [
    "# Show All Class Type"
   ]
  },
  {
   "cell_type": "code",
   "execution_count": 3,
   "id": "8b12659f",
   "metadata": {
    "execution": {
     "iopub.execute_input": "2022-03-26T17:58:34.252810Z",
     "iopub.status.busy": "2022-03-26T17:58:34.252186Z",
     "iopub.status.idle": "2022-03-26T17:58:34.253754Z",
     "shell.execute_reply": "2022-03-26T17:58:34.254387Z",
     "shell.execute_reply.started": "2022-03-26T17:56:11.929329Z"
    },
    "papermill": {
     "duration": 0.020417,
     "end_time": "2022-03-26T17:58:34.254562",
     "exception": false,
     "start_time": "2022-03-26T17:58:34.234145",
     "status": "completed"
    },
    "tags": []
   },
   "outputs": [],
   "source": [
    "BATCH_SIZE =32\n",
    "IMAGE_SIZE = 224\n",
    "input_shape = (IMAGE_SIZE,IMAGE_SIZE,3)"
   ]
  },
  {
   "cell_type": "code",
   "execution_count": 4,
   "id": "c8865a44",
   "metadata": {
    "execution": {
     "iopub.execute_input": "2022-03-26T17:58:34.289445Z",
     "iopub.status.busy": "2022-03-26T17:58:34.288504Z",
     "iopub.status.idle": "2022-03-26T17:58:47.868835Z",
     "shell.execute_reply": "2022-03-26T17:58:47.868212Z",
     "shell.execute_reply.started": "2022-03-26T17:56:11.959463Z"
    },
    "papermill": {
     "duration": 13.601349,
     "end_time": "2022-03-26T17:58:47.869009",
     "exception": false,
     "start_time": "2022-03-26T17:58:34.267660",
     "status": "completed"
    },
    "tags": []
   },
   "outputs": [
    {
     "name": "stdout",
     "output_type": "stream",
     "text": [
      "vgg Testing\n"
     ]
    },
    {
     "name": "stderr",
     "output_type": "stream",
     "text": [
      "2022-03-26 17:58:34.341927: I tensorflow/core/common_runtime/process_util.cc:146] Creating new thread pool with default inter op setting: 2. Tune using inter_op_parallelism_threads for best performance.\n"
     ]
    }
   ],
   "source": [
    "    print(\"vgg Testing\")\n",
    "    from tensorflow.keras.models import load_model\n",
    "    model_vgg = load_model('../input/weight/my_model_VGG_16.h5')"
   ]
  },
  {
   "cell_type": "code",
   "execution_count": 5,
   "id": "7ca0823a",
   "metadata": {
    "execution": {
     "iopub.execute_input": "2022-03-26T17:58:47.905802Z",
     "iopub.status.busy": "2022-03-26T17:58:47.905053Z",
     "iopub.status.idle": "2022-03-26T17:58:57.034999Z",
     "shell.execute_reply": "2022-03-26T17:58:57.034408Z",
     "shell.execute_reply.started": "2022-03-26T17:56:24.605577Z"
    },
    "papermill": {
     "duration": 9.150132,
     "end_time": "2022-03-26T17:58:57.035186",
     "exception": false,
     "start_time": "2022-03-26T17:58:47.885054",
     "status": "completed"
    },
    "tags": []
   },
   "outputs": [
    {
     "name": "stdout",
     "output_type": "stream",
     "text": [
      "ImageNet Testing\n"
     ]
    }
   ],
   "source": [
    "    print(\"ImageNet Testing\")\n",
    "    from tensorflow.keras.models import load_model\n",
    "    model_image = load_model('../input/weight1/ImageNet.h5')\n"
   ]
  },
  {
   "cell_type": "code",
   "execution_count": 6,
   "id": "2c793e1d",
   "metadata": {
    "execution": {
     "iopub.execute_input": "2022-03-26T17:58:57.068878Z",
     "iopub.status.busy": "2022-03-26T17:58:57.067922Z",
     "iopub.status.idle": "2022-03-26T17:59:03.591856Z",
     "shell.execute_reply": "2022-03-26T17:59:03.592374Z",
     "shell.execute_reply.started": "2022-03-26T17:56:32.254608Z"
    },
    "papermill": {
     "duration": 6.542387,
     "end_time": "2022-03-26T17:59:03.592604",
     "exception": false,
     "start_time": "2022-03-26T17:58:57.050217",
     "status": "completed"
    },
    "tags": []
   },
   "outputs": [
    {
     "name": "stdout",
     "output_type": "stream",
     "text": [
      "CNN Testing\n"
     ]
    }
   ],
   "source": [
    "    print(\"CNN Testing\")\n",
    "    from tensorflow.keras.models import load_model\n",
    "    model_cnn = load_model('../input/d/yasinsumon/weight/my_model_CNN.h5')"
   ]
  },
  {
   "cell_type": "code",
   "execution_count": 7,
   "id": "a57c15f5",
   "metadata": {
    "execution": {
     "iopub.execute_input": "2022-03-26T17:59:03.627233Z",
     "iopub.status.busy": "2022-03-26T17:59:03.626493Z",
     "iopub.status.idle": "2022-03-26T17:59:04.140330Z",
     "shell.execute_reply": "2022-03-26T17:59:04.140880Z",
     "shell.execute_reply.started": "2022-03-26T17:57:17.682075Z"
    },
    "papermill": {
     "duration": 0.5333,
     "end_time": "2022-03-26T17:59:04.141090",
     "exception": false,
     "start_time": "2022-03-26T17:59:03.607790",
     "status": "completed"
    },
    "tags": []
   },
   "outputs": [
    {
     "data": {
      "image/png": "[encoded data removed]",
      "text/plain": [
       "<Figure size 288x288 with 1 Axes>"
      ]
     },
     "metadata": {
      "needs_background": "light"
     },
     "output_type": "display_data"
    }
   ],
   "source": [
    "import cv2\n",
    "Input_image=cv2.imread('../input/robiul-islam/01E392EE-69F9-4E33-BFCE-E5C968654078.jpeg')\n",
    "import matplotlib.pyplot as plt        \n",
    "plt.figure(figsize = (4,4))\n",
    "plt.imshow(Input_image)\n",
    "plt.axis('off')\n",
    "plt.title(\"Input\")\n",
    "plt.show()"
   ]
  },
  {
   "cell_type": "code",
   "execution_count": 8,
   "id": "502bade7",
   "metadata": {
    "execution": {
     "iopub.execute_input": "2022-03-26T17:59:04.183435Z",
     "iopub.status.busy": "2022-03-26T17:59:04.182673Z",
     "iopub.status.idle": "2022-03-26T17:59:04.186808Z",
     "shell.execute_reply": "2022-03-26T17:59:04.186308Z",
     "shell.execute_reply.started": "2022-03-26T17:56:37.835635Z"
    },
    "papermill": {
     "duration": 0.028372,
     "end_time": "2022-03-26T17:59:04.186972",
     "exception": false,
     "start_time": "2022-03-26T17:59:04.158600",
     "status": "completed"
    },
    "tags": []
   },
   "outputs": [
    {
     "data": {
      "text/plain": [
       "(1482, 1989, 3)"
      ]
     },
     "execution_count": 8,
     "metadata": {},
     "output_type": "execute_result"
    }
   ],
   "source": [
    "Input_image.shape"
   ]
  },
  {
   "cell_type": "code",
   "execution_count": 9,
   "id": "6fdebc64",
   "metadata": {
    "execution": {
     "iopub.execute_input": "2022-03-26T17:59:04.228330Z",
     "iopub.status.busy": "2022-03-26T17:59:04.227647Z",
     "iopub.status.idle": "2022-03-26T17:59:04.241691Z",
     "shell.execute_reply": "2022-03-26T17:59:04.242221Z",
     "shell.execute_reply.started": "2022-03-26T17:56:37.843966Z"
    },
    "papermill": {
     "duration": 0.038227,
     "end_time": "2022-03-26T17:59:04.242430",
     "exception": false,
     "start_time": "2022-03-26T17:59:04.204203",
     "status": "completed"
    },
    "tags": []
   },
   "outputs": [],
   "source": [
    "Input_image = cv2.normalize(Input_image, None, alpha=0,beta=1, norm_type=cv2.NORM_MINMAX)"
   ]
  },
  {
   "cell_type": "code",
   "execution_count": 10,
   "id": "17be83a6",
   "metadata": {
    "execution": {
     "iopub.execute_input": "2022-03-26T17:59:04.284842Z",
     "iopub.status.busy": "2022-03-26T17:59:04.284120Z",
     "iopub.status.idle": "2022-03-26T17:59:04.299130Z",
     "shell.execute_reply": "2022-03-26T17:59:04.298294Z",
     "shell.execute_reply.started": "2022-03-26T17:56:37.861372Z"
    },
    "papermill": {
     "duration": 0.039622,
     "end_time": "2022-03-26T17:59:04.299349",
     "exception": false,
     "start_time": "2022-03-26T17:59:04.259727",
     "status": "completed"
    },
    "tags": []
   },
   "outputs": [
    {
     "data": {
      "text/plain": [
       "(1, 224, 224, 3)"
      ]
     },
     "execution_count": 10,
     "metadata": {},
     "output_type": "execute_result"
    }
   ],
   "source": [
    "Input_image=cv2.resize(Input_image, (224,224))\n",
    "Input_image = np.expand_dims(Input_image, axis=0)\n",
    "Input_image.shape"
   ]
  },
  {
   "cell_type": "code",
   "execution_count": 11,
   "id": "1e5a40ae",
   "metadata": {
    "execution": {
     "iopub.execute_input": "2022-03-26T17:59:04.341678Z",
     "iopub.status.busy": "2022-03-26T17:59:04.340973Z",
     "iopub.status.idle": "2022-03-26T17:59:05.924446Z",
     "shell.execute_reply": "2022-03-26T17:59:05.925010Z",
     "shell.execute_reply.started": "2022-03-26T17:56:37.874071Z"
    },
    "papermill": {
     "duration": 1.607428,
     "end_time": "2022-03-26T17:59:05.925252",
     "exception": false,
     "start_time": "2022-03-26T17:59:04.317824",
     "status": "completed"
    },
    "tags": []
   },
   "outputs": [
    {
     "name": "stderr",
     "output_type": "stream",
     "text": [
      "2022-03-26 17:59:04.416402: I tensorflow/compiler/mlir/mlir_graph_optimization_pass.cc:185] None of the MLIR Optimization Passes are enabled (registered 2)\n"
     ]
    },
    {
     "data": {
      "text/plain": [
       "array([[0.792834  , 0.09854605, 0.09753859, 0.01108137]], dtype=float32)"
      ]
     },
     "execution_count": 11,
     "metadata": {},
     "output_type": "execute_result"
    }
   ],
   "source": [
    " model_image.predict(Input_image)"
   ]
  }
 ],
 "metadata": {
  "kernelspec": {
   "display_name": "Python 3",
   "language": "python",
   "name": "python3"
  },
  "language_info": {
   "codemirror_mode": {
    "name": "ipython",
    "version": 3
   },
   "file_extension": ".py",
   "mimetype": "text/x-python",
   "name": "python",
   "nbconvert_exporter": "python",
   "pygments_lexer": "ipython3",
   "version": "3.7.12"
  },
  "papermill": {
   "default_parameters": {},
   "duration": 52.694782,
   "end_time": "2022-03-26T17:59:08.749254",
   "environment_variables": {},
   "exception": null,
   "input_path": "__notebook__.ipynb",
   "output_path": "__notebook__.ipynb",
   "parameters": {},
   "start_time": "2022-03-26T17:58:16.054472",
   "version": "2.3.3"
  }
 },
 "nbformat": 4,
 "nbformat_minor": 5
}
